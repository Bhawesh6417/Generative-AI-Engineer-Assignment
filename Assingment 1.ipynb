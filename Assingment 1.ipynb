{
  "nbformat": 4,
  "nbformat_minor": 0,
  "metadata": {
    "colab": {
      "provenance": []
    },
    "kernelspec": {
      "name": "python3",
      "display_name": "Python 3"
    },
    "language_info": {
      "name": "python"
    }
  },
  "cells": [
    {
      "cell_type": "code",
      "execution_count": null,
      "metadata": {
        "id": "YqV_Fjqa61er"
      },
      "outputs": [],
      "source": [
        "from transformers import AutoModelForQuestionAnswering, pipeline\n",
        "import requests\n",
        "\n",
        "# Initialize question-answering pipeline (replace with your preferred model name)\n",
        "model_name = 'distilbert-base-cased-distilled-squad'  # Example model, choose a suitable one\n",
        "qa_pipeline = pipeline('question-answering', model=model_name)\n",
        "\n",
        "def webpage_content(url):\n",
        "\n",
        "  response = requests.get(url)\n",
        "  if response.status_code == 200:\n",
        "    return response.text\n",
        "  else:\n",
        "    raise Exception(f\"Error fetching webpage content: {response.status_code}\")\n",
        "\n",
        "url = \"https://en.wikipedia.org/wiki/Generative_artificial_intelligence\"\n",
        "\n",
        "# Fetch webpage content\n",
        "webpage_text = webpage_content(url)\n",
        "\n",
        "# Ask the question using pipeline\n",
        "question = \"What are the concerns around Generative AI?\"\n",
        "answer = qa_pipeline({'context': webpage_text, 'question': question})\n",
        "\n",
        "# Print the answer (or \"I don't know the answer\" if not found)\n",
        "print(answer.get('answer', \"I don't know the answer\"))\n"
      ]
    }
  ]
}