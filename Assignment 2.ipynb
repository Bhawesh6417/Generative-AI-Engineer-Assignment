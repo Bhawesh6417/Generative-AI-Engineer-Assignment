{
  "nbformat": 4,
  "nbformat_minor": 0,
  "metadata": {
    "colab": {
      "provenance": []
    },
    "kernelspec": {
      "name": "python3",
      "display_name": "Python 3"
    },
    "language_info": {
      "name": "python"
    }
  },
  "cells": [
    {
      "cell_type": "code",
      "execution_count": 3,
      "metadata": {
        "colab": {
          "base_uri": "https://localhost:8080/"
        },
        "id": "Ez5hTwOkYMM-",
        "outputId": "2f2611cf-a71d-4140-b42c-1f358a77c053"
      },
      "outputs": [
        {
          "output_type": "stream",
          "name": "stderr",
          "text": [
            "No model was supplied, defaulted to openai-community/gpt2 and revision 6c0e608 (https://huggingface.co/openai-community/gpt2).\n",
            "Using a pipeline without specifying a model name and revision in production is not recommended.\n",
            "Truncation was not explicitly activated but `max_length` is provided a specific value, please use `truncation=True` to explicitly truncate examples to max length. Defaulting to 'longest_first' truncation strategy. If you encode pairs of sequences (GLUE-style) with the tokenizer you can select this strategy more precisely by providing a specific strategy to `truncation`.\n",
            "Setting `pad_token_id` to `eos_token_id`:50256 for open-end generation.\n"
          ]
        },
        {
          "output_type": "stream",
          "name": "stdout",
          "text": [
            "Generate a linkedin post about Generative AI and discover which algorithms we can use to generate good content. Learn more about generating linkedin posts.\n",
            "\n",
            "How do I set up the GenerativeAI and how do I apply the training algorithm?\n",
            "\n",
            "Let us check out the section\n",
            "\n",
            "Go on the training page.\n",
            "\n",
            "Enter the name of an algorithm. Enter the name of the training algorithm and the parameter parameters.\n",
            "\n",
            "Now we need to create a new page with the GenerativeAI as the title.\n",
            "\n",
            "Create the template: GenerativeAI.Template\n",
            "\n",
            "We should insert the template in our template editor.\n",
            "\n",
            "Create the link\n",
            "\n",
            "Go to: GenerativeAI.Template URL (for Google Docs)\n",
            "\n",
            "Click on the GenerativeAI link.\n",
            "\n",
            "Click on the link in our form and click on Edit.\n",
            "\n",
            "Scroll down to GenerativeAI_template and choose the link.\n",
            "\n",
            "Choose the template we want to add here.\n",
            "\n",
            "Create the post\n",
            "\n",
            "To add a link to this website you'll want to include the following URL (for Google Forms):\n",
            "\n",
            "<img src=\"http://api.googleform.com/v5/images/img/generativebotbot.gif\" alt=\"generative bot on hover\" width=\"100%\"> </a>\n",
            "\n",
            "Go to: GenerativeAI_template URL (for Google Docs)\n",
            "\n",
            "Go to the GenerativeAI_template URL and select Import Template In the Import Template checkbox.\n",
            "\n",
            "Look for the URL of your generated template page. Type it in in the following URL and click OK. You'll see Generative AI in the top Right.\n",
            "\n",
            "You should see a link in the form. Click the Checkbox next to your new link.\n",
            "\n",
            "Click the Verify Link and we'll confirm the link by checking the Link.\n",
            "\n",
            "What if the link does not exist?\n",
            "\n",
            "In this case if the link do not exist, we can go ahead and click OK to continue our training.\n",
            "\n",
            "If the link is not valid, we can continue learning this technique and the resulting link will be uploaded to Google Docs.\n",
            "\n",
            "In our case, if the link does not exist we must enter the URL of the generated link in the URL field instead.\n",
            "\n",
            "When you have learned the technique to generate good content, you don't have to learn the original search term to go through the training\n"
          ]
        }
      ],
      "source": [
        "import random\n",
        "from transformers import pipeline\n",
        "\n",
        "# Initialize the text generation model\n",
        "generator = pipeline('text-generation')\n",
        "\n",
        "def generate_marketing_content(topic, format, emotion=None, length=None):\n",
        "    #Generate Marketing Content based on Topic and Format\n",
        "    prompt = f\"Generate a {format} about {topic}\"\n",
        "    if emotion:\n",
        "        prompt += f\" with a tone of {emotion}\"\n",
        "    if length:\n",
        "        prompt += f\" with a length of approximately {length} words\"\n",
        "\n",
        "    response = generator(prompt, max_length=500, num_return_sequences=1)\n",
        "    return response[0]['generated_text']\n",
        "\n",
        "# Example usage\n",
        "input_data = {\n",
        "    \"format\": \"linkedin post\",\n",
        "    \"topic\": \"Generative AI\"\n",
        "}\n",
        "output = generate_marketing_content(**input_data)\n",
        "print(output)"
      ]
    }
  ]
}